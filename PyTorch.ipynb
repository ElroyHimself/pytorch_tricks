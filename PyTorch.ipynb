{
 "cells": [
  {
   "cell_type": "code",
   "execution_count": 1,
   "metadata": {},
   "outputs": [],
   "source": [
    "import torch\n",
    "import torch.nn as nn\n",
    "import torch.optim as optim\n",
    "from torch.utils import data\n",
    "from torch.autograd import Variable\n",
    "import torch.nn.functional as F"
   ]
  },
  {
   "cell_type": "code",
   "execution_count": 1,
   "metadata": {},
   "outputs": [],
   "source": [
    "import jieba"
   ]
  },
  {
   "cell_type": "code",
   "execution_count": 3,
   "metadata": {},
   "outputs": [
    {
     "name": "stderr",
     "output_type": "stream",
     "text": [
      "Building prefix dict from the default dictionary ...\n",
      "Dumping model to file cache C:\\Users\\11024\\AppData\\Local\\Temp\\jieba.cache\n",
      "Loading model cost 1.300 seconds.\n",
      "Prefix dict has been built successfully.\n"
     ]
    }
   ],
   "source": [
    "text = '深度学习（英语：deep learning)是机器学习的分支,是一种以人工神经网络为架构对数据进行表征学习的算法'\n",
    "cuted = jieba.lcut(text)"
   ]
  },
  {
   "cell_type": "code",
   "execution_count": 6,
   "metadata": {
    "scrolled": true
   },
   "outputs": [
    {
     "data": {
      "text/plain": [
       "[['深度', '学习'],\n",
       " ['学习', '（'],\n",
       " ['（', '英语'],\n",
       " ['英语', '：'],\n",
       " ['：', 'deep'],\n",
       " ['deep', ' '],\n",
       " [' ', 'learning'],\n",
       " ['learning', ')'],\n",
       " [')', '是'],\n",
       " ['是', '机器'],\n",
       " ['机器', '学习'],\n",
       " ['学习', '的'],\n",
       " ['的', '分支'],\n",
       " ['分支', ','],\n",
       " [',', '是'],\n",
       " ['是', '一种'],\n",
       " ['一种', '以'],\n",
       " ['以', '人工神经网络'],\n",
       " ['人工神经网络', '为'],\n",
       " ['为', '架构'],\n",
       " ['架构', '对'],\n",
       " ['对', '数据'],\n",
       " ['数据', '进行'],\n",
       " ['进行', '表征'],\n",
       " ['表征', '学习'],\n",
       " ['学习', '的'],\n",
       " ['的', '算法']]"
      ]
     },
     "execution_count": 6,
     "metadata": {},
     "output_type": "execute_result"
    }
   ],
   "source": [
    "[cuted[i:i+2] for i in range(len(cuted)-1)]"
   ]
  },
  {
   "cell_type": "code",
   "execution_count": null,
   "metadata": {},
   "outputs": [],
   "source": []
  },
  {
   "cell_type": "code",
   "execution_count": 3,
   "metadata": {},
   "outputs": [
    {
     "data": {
      "text/plain": [
       "tensor([0, 0, 0, 1, 2])"
      ]
     },
     "execution_count": 3,
     "metadata": {},
     "output_type": "execute_result"
    }
   ],
   "source": [
    "b = torch.tensor([-2,-1,0,1,2])\n",
    "F.relu(b)"
   ]
  },
  {
   "cell_type": "code",
   "execution_count": null,
   "metadata": {},
   "outputs": [],
   "source": []
  },
  {
   "cell_type": "code",
   "execution_count": null,
   "metadata": {},
   "outputs": [],
   "source": []
  },
  {
   "cell_type": "markdown",
   "metadata": {},
   "source": [
    "# torch.argmax函数说明\n",
    "torch.argmax()函数\n",
    "\n",
    "argmax函数：torch.argmax(input, dim=None, keepdim=False)返回指定维度最大值的序号，dim给定的定义是：the demention to reduce.也就是把dim这个维度的，变成这个维度的最大值的index。\n",
    "\n",
    "1）dim的不同值表示不同维度。特别的在dim=0表示二维中的列，dim=1在二维矩阵中表示行。广泛的来说，我们不管一个矩阵是几维的，比如一个矩阵维度如下：(d0,d1,...,dn−1) ，那么dim=0就表示对应到d0 也就是第一个维度，dim=1表示对应到\n",
    "也就是第二个维度，一次类推。\n",
    "\n",
    "\n",
    "2）知道dim的值是什么意思还不行，还要知道函数中这个dim给出来会发生什么。\n",
    "\n",
    "结合这两个才会知道dim在函数中的作用。下面举两个例子说明上面的第二点。\n",
    "\n",
    "例子一：torch.argmax()函数中dim表示该维度会消失。\n",
    "这个消失是什么意思？官方英文解释是：dim (int) – the dimension to reduce.\n",
    "我们知道argmax就是得到最大值的序号索引，对于一个维度为(d0,d1) 的矩阵来说，我们想要求每一行中最大数的在该行中的列号，最后我们得到的就是一个维度为(d0,1) 的一矩阵。这时候，列就要消失了。\n",
    "\n",
    "因此，我们想要求每一行最大的列标号，我们就要指定dim=1，表示我们不要列了，保留行的size就可以了。\n",
    "假如我们想求每一列的最大行标，就可以指定dim=0，表示我们不要行了。"
   ]
  },
  {
   "cell_type": "code",
   "execution_count": 141,
   "metadata": {},
   "outputs": [
    {
     "name": "stdout",
     "output_type": "stream",
     "text": [
      "tensor([1, 2, 0, 1])\n"
     ]
    }
   ],
   "source": [
    "\n",
    "a=torch.tensor(\n",
    "              [\n",
    "                  [1, 5, 5, 2],\n",
    "                  [9, -6, 2, 8],\n",
    "                  [-3, 7, -9, 1]\n",
    "              ])\n",
    "b=torch.argmax(a,dim=0)\n",
    "print(b)"
   ]
  },
  {
   "cell_type": "code",
   "execution_count": 144,
   "metadata": {},
   "outputs": [
    {
     "data": {
      "text/plain": [
       "tensor([[[-0.0507,  3.1565, -0.1225,  ..., -1.1123,  0.9144, -0.0299],\n",
       "         [ 0.8546,  0.5101,  0.6709,  ...,  0.0487, -1.4789,  0.4803],\n",
       "         [-0.2002,  0.5877,  0.9942,  ..., -0.2248,  1.4009,  0.6243],\n",
       "         ...,\n",
       "         [ 0.8035,  1.7767,  0.7535,  ...,  2.6316, -0.7831,  0.4345],\n",
       "         [ 0.1673, -0.7158,  0.5009,  ...,  1.5412,  2.1190,  2.2826],\n",
       "         [-0.0864,  0.2303, -0.1305,  ...,  1.3734,  0.0132,  1.7855]],\n",
       "\n",
       "        [[ 1.2318,  0.2859,  0.3438,  ..., -0.1064,  1.7126, -1.1934],\n",
       "         [-0.4377, -1.5372, -0.0329,  ..., -0.5671,  0.1183,  0.4995],\n",
       "         [ 0.3354, -0.6357,  1.3657,  ...,  0.8461, -0.0536,  0.2563],\n",
       "         ...,\n",
       "         [ 0.5269, -0.9534, -0.8335,  ...,  0.1606,  1.8366, -1.0151],\n",
       "         [ 0.8334,  0.5718, -0.0487,  ...,  0.3361, -0.3937,  0.2168],\n",
       "         [-1.5929, -0.5038, -0.6126,  ..., -0.9856,  2.3434,  0.4809]],\n",
       "\n",
       "        [[-0.8854, -1.2100,  1.3532,  ...,  0.1073,  1.1139,  0.0481],\n",
       "         [ 0.5103,  1.8720,  0.0788,  ..., -1.8856, -2.2524, -0.6876],\n",
       "         [-1.1676, -0.8863,  0.0615,  ..., -1.0313, -3.6274,  0.0110],\n",
       "         ...,\n",
       "         [ 0.5123, -0.5949, -1.2164,  ...,  1.5962,  0.0301,  0.3453],\n",
       "         [-0.1136,  0.1462, -1.5723,  ..., -0.2412, -0.0133, -1.6686],\n",
       "         [-0.1653, -0.2825, -0.4882,  ..., -0.1399,  0.7158, -0.7395]],\n",
       "\n",
       "        ...,\n",
       "\n",
       "        [[ 0.1804, -1.5246,  0.8553,  ..., -1.2654,  0.2521,  1.7030],\n",
       "         [ 0.4772, -0.3464,  1.1730,  ...,  0.2500, -2.1434, -1.5316],\n",
       "         [-0.5792, -1.7732, -0.1522,  ...,  0.6880,  1.4842,  1.3308],\n",
       "         ...,\n",
       "         [-0.3555, -0.1637, -0.4418,  ...,  1.3566,  0.7247, -0.2064],\n",
       "         [ 1.5813, -0.2686,  0.1000,  ...,  0.6050,  0.1481, -0.2912],\n",
       "         [-0.2615,  0.3029,  1.4359,  ...,  1.5615,  2.1094,  0.4946]],\n",
       "\n",
       "        [[ 0.9260,  0.1079,  0.4907,  ...,  0.3989,  0.8725, -1.0731],\n",
       "         [-0.1212, -1.4637, -0.3249,  ..., -0.1152, -0.1956, -0.7190],\n",
       "         [-0.3947,  0.1955,  0.6783,  ...,  0.6032,  2.3687,  0.0895],\n",
       "         ...,\n",
       "         [-1.3056,  1.9329,  0.1860,  ..., -0.9899,  0.7769, -0.3706],\n",
       "         [ 0.3056,  0.3927, -0.6078,  ..., -1.5250,  0.7627, -0.1989],\n",
       "         [-0.2133, -1.2909,  0.6388,  ..., -0.5367,  0.1652,  0.6757]],\n",
       "\n",
       "        [[-0.6139,  1.3162,  1.2331,  ..., -1.0022, -0.2441, -1.3937],\n",
       "         [-0.4997,  0.0212, -0.6141,  ...,  0.2229,  0.6618, -0.8225],\n",
       "         [-1.5208,  0.2337,  2.3678,  ...,  0.4417,  1.3980, -0.6660],\n",
       "         ...,\n",
       "         [-0.7380, -2.2356, -0.1855,  ...,  0.6250,  1.6066,  0.8016],\n",
       "         [-1.2281, -0.1493, -0.1141,  ...,  0.0921,  1.3185,  0.9264],\n",
       "         [-1.1819,  0.8146,  0.9803,  ...,  0.3235,  0.8057,  0.3066]]])"
      ]
     },
     "execution_count": 144,
     "metadata": {},
     "output_type": "execute_result"
    }
   ],
   "source": [
    "\n",
    "a=torch.randn(10,45,35)\n",
    "b=torch.argmax(a,dim=-1)\n",
    "a"
   ]
  },
  {
   "cell_type": "code",
   "execution_count": 145,
   "metadata": {},
   "outputs": [
    {
     "data": {
      "text/plain": [
       "tensor([[ 1, 17, 12, 19, 14, 26, 20, 13, 19, 31,  7,  9, 19, 12, 12,  1, 22,  2,\n",
       "         19,  9, 17, 33,  2,  3, 11, 25, 32, 21, 18, 19, 16,  9, 21,  4, 26, 19,\n",
       "         17,  0, 30,  8, 25,  8, 28, 34, 31],\n",
       "        [14, 21, 12, 28, 23,  6,  7, 17,  5, 15,  3,  9,  0, 20, 13, 17, 15,  0,\n",
       "         31, 11, 20,  7, 19,  0, 27,  1, 18, 28,  9, 34,  5, 30, 15, 12,  9, 20,\n",
       "         16,  2, 25, 19,  7, 23,  3, 22, 26],\n",
       "        [27,  1, 11, 26, 32, 11, 10, 20,  0, 10, 27, 19, 25, 32, 10, 23, 26, 17,\n",
       "         33, 15,  7, 28, 18, 25,  1, 28, 20,  8, 11, 20, 25, 17, 16,  3, 16,  7,\n",
       "         20, 22, 34, 21, 13, 21,  5, 20,  4],\n",
       "        [31, 15, 11, 25, 26, 21, 10, 20, 32, 20, 28, 13, 22, 29, 30, 25, 26,  0,\n",
       "          2,  3, 33, 30, 14,  0, 10, 12, 15,  1,  8,  1,  8, 33, 10, 10, 27,  7,\n",
       "         15, 20,  8,  3,  6, 13, 13, 18, 14],\n",
       "        [34, 33, 27, 24,  6,  5, 22,  6, 11, 31, 14, 29, 31, 16, 32,  9, 14, 13,\n",
       "         16,  1, 16,  8, 34,  0, 31, 31, 31, 20, 15, 31, 20, 25, 11, 11, 18, 31,\n",
       "         21, 11,  6, 28,  2,  1,  5, 23, 29],\n",
       "        [20, 17, 30,  8, 14,  0, 12,  8, 19,  3, 16,  1, 31, 33, 32, 25, 28, 33,\n",
       "         22, 29, 22,  2, 12, 21, 17, 31,  4,  4,  4, 34, 26,  3, 14, 15, 14, 25,\n",
       "         26, 29,  6, 10, 27, 32, 16,  8, 23],\n",
       "        [32, 18, 20, 15,  3, 32, 28, 16, 12, 17, 17, 24,  5,  6,  0, 33, 15, 29,\n",
       "         31, 16, 21, 19, 34, 24,  2, 25, 23, 17, 30, 16,  6,  1, 32, 32,  2,  1,\n",
       "         11, 20, 27, 18, 27, 12,  8, 28, 26],\n",
       "        [34, 29, 22,  5,  4, 29, 18, 14, 28, 11,  6, 10, 26,  9,  4,  9, 25,  5,\n",
       "         19,  9, 25, 34, 27,  6, 16, 22, 33, 33,  3, 23,  6, 13, 10,  0,  6, 10,\n",
       "         20, 13, 11, 31, 20, 24,  4, 26, 33],\n",
       "        [29, 17, 33,  5, 14, 17, 22, 23,  3, 10, 27,  2, 11, 30, 26,  9, 29,  2,\n",
       "         21, 19, 13,  0, 26,  2,  6, 22,  6, 26, 26, 31,  0,  0,  5, 20, 18, 20,\n",
       "          5, 26,  5, 30,  5, 25, 23, 21, 16],\n",
       "        [ 6,  5,  8, 14, 19,  1, 30, 28, 15, 22, 21, 24, 27,  8, 20, 34, 19, 32,\n",
       "         18,  1, 24, 31,  9, 30, 31, 10, 30, 29,  5, 21, 13,  6, 27,  9,  2,  9,\n",
       "         10, 26,  9, 22, 33,  8, 15, 25, 10]])"
      ]
     },
     "execution_count": 145,
     "metadata": {},
     "output_type": "execute_result"
    }
   ],
   "source": [
    "b"
   ]
  },
  {
   "cell_type": "code",
   "execution_count": null,
   "metadata": {},
   "outputs": [],
   "source": []
  },
  {
   "cell_type": "markdown",
   "metadata": {},
   "source": [
    "## torch.bmm() 与 torch.matmul()\n",
    "torch.bmm()强制规定维度和大小相同\n",
    "\n",
    "torch.matmul()没有强制规定维度和大小，可以用利用广播机制进行不同维度的相乘操作\n",
    "\n",
    "当进行操作的两个tensor都是3D时，两者等同。"
   ]
  },
  {
   "cell_type": "markdown",
   "metadata": {},
   "source": [
    "### \n",
    "torch.bmm()是tensor中的一个相乘操作，类似于矩阵中的A*B。\n",
    "\n",
    "参数：input，mat2：两个要进行相乘的tensor结构，两者必须是3D维度的，每个维度中的大小是相同的。\n",
    "\n",
    "output：输出结果\n",
    "\n",
    "并且相乘的两个矩阵，要满足一定的维度要求：input（p,m,n) * mat2(p,n,a) ->output(p,m,a)。这个要求，可以类比于矩阵相乘。前一个矩阵的列等于后面矩阵的行才可以相乘。\n"
   ]
  },
  {
   "cell_type": "code",
   "execution_count": 2,
   "metadata": {},
   "outputs": [
    {
     "name": "stdout",
     "output_type": "stream",
     "text": [
      "tensor([[[-1.1912, -0.2941,  0.0495, -1.9024, -0.2066],\n",
      "         [-0.7716,  1.8078, -0.1648,  2.3963, -0.6913]],\n",
      "\n",
      "        [[ 0.0175,  0.7192, -0.0283, -0.2530,  0.1925],\n",
      "         [ 0.5540, -0.3659,  0.9093, -0.0889, -1.0551]]])\n"
     ]
    }
   ],
   "source": [
    "c = torch.randn((2,2,5))\n",
    "print (c)"
   ]
  },
  {
   "cell_type": "code",
   "execution_count": 3,
   "metadata": {},
   "outputs": [
    {
     "name": "stdout",
     "output_type": "stream",
     "text": [
      "tensor([[[-1.1912, -0.2941],\n",
      "         [ 0.0495, -1.9024],\n",
      "         [-0.2066, -0.7716],\n",
      "         [ 1.8078, -0.1648],\n",
      "         [ 2.3963, -0.6913]],\n",
      "\n",
      "        [[ 0.0175,  0.7192],\n",
      "         [-0.0283, -0.2530],\n",
      "         [ 0.1925,  0.5540],\n",
      "         [-0.3659,  0.9093],\n",
      "         [-0.0889, -1.0551]]])\n"
     ]
    }
   ],
   "source": [
    "d = torch.reshape(c,(2,5,2))\n",
    "print (d)"
   ]
  },
  {
   "cell_type": "code",
   "execution_count": 4,
   "metadata": {},
   "outputs": [
    {
     "name": "stdout",
     "output_type": "stream",
     "text": [
      "tensor([[[-2.5403,  1.3280],\n",
      "         [ 3.7181, -3.0022]],\n",
      "\n",
      "        [[ 0.0499, -0.6181],\n",
      "         [ 0.3214,  2.0271]]])\n"
     ]
    }
   ],
   "source": [
    "e = torch.bmm(c,d)\n",
    "print(e)"
   ]
  },
  {
   "cell_type": "code",
   "execution_count": 5,
   "metadata": {},
   "outputs": [
    {
     "data": {
      "text/plain": [
       "torch.Size([2, 2, 2])"
      ]
     },
     "execution_count": 5,
     "metadata": {},
     "output_type": "execute_result"
    }
   ],
   "source": [
    "e.size()"
   ]
  },
  {
   "cell_type": "markdown",
   "metadata": {},
   "source": [
    "## torch.matmul()\n",
    "torch.matmul(input, other, out=None) → Tensor\n",
    "\n",
    " torch.matmul()也是一种类似于矩阵相乘操作的tensor联乘操作。但是它可以利用python 中的广播机制，处理一些维度不同的tensor结构进行相乘操作。这也是该函数与torch.bmm()区别所在。参数：\n",
    "\n",
    "input,other：两个要进行操作的tensor结构\n",
    "\n",
    "output:结果"
   ]
  },
  {
   "cell_type": "code",
   "execution_count": 6,
   "metadata": {},
   "outputs": [
    {
     "name": "stdout",
     "output_type": "stream",
     "text": [
      "tensor(0.2931) torch.Size([])\n"
     ]
    }
   ],
   "source": [
    "'''若两个都是1D（向量）的，则返回两个向量的点积'''\n",
    "x = torch.rand(2)\n",
    "y = torch.rand(2)\n",
    "print(torch.matmul(x,y),torch.matmul(x,y).size())"
   ]
  },
  {
   "cell_type": "code",
   "execution_count": 7,
   "metadata": {},
   "outputs": [
    {
     "name": "stdout",
     "output_type": "stream",
     "text": [
      "tensor([[0.9911, 1.6114, 1.4311],\n",
      "        [0.7890, 1.0214, 0.8716]]) \n",
      " torch.Size([2, 3])\n"
     ]
    }
   ],
   "source": [
    "'''若两个都是2D（矩阵）的，则按照（矩阵相乘）规则返回2D'''\n",
    "x = torch.rand(2,4)\n",
    "y = torch.rand(4,3) ###维度也要对应才可以乘\n",
    "print(torch.matmul(x,y),'\\n',torch.matmul(x,y).size())"
   ]
  },
  {
   "cell_type": "code",
   "execution_count": 8,
   "metadata": {},
   "outputs": [
    {
     "name": "stdout",
     "output_type": "stream",
     "text": [
      "torch.Size([4])\n",
      "torch.Size([4, 3])\n",
      "tensor([0.6495, 0.9176, 1.3733]) \n",
      " torch.Size([3])\n"
     ]
    }
   ],
   "source": [
    "'''若input维度1D，other维度2D，则先将1D的维度扩充到2D（1D的维数前面+1），\n",
    "然后得到结果后再将此维度去掉，得到的与input的维度相同。即使作扩充（广播）处理，\n",
    "input的维度也要和other维度做对应关系。'''\n",
    "x = torch.rand(4) #1D\n",
    "y = torch.rand(4,3) #2D\n",
    "print(x.size())\n",
    "print(y.size())\n",
    "print(torch.matmul(x,y),'\\n',torch.matmul(x,y).size())\n",
    "\n",
    "### 扩充x =>(,4) \n",
    "### 相乘x(,4) * y(4,3) =>(,3) \n",
    "### 去掉1D =>(3)\n"
   ]
  },
  {
   "cell_type": "code",
   "execution_count": 9,
   "metadata": {},
   "outputs": [
    {
     "name": "stdout",
     "output_type": "stream",
     "text": [
      "tensor([[ 3.6362, -1.1798, -1.0108, -5.3773],\n",
      "        [-0.6950, -0.1795,  0.7154,  1.2766]]) \n",
      " torch.Size([2, 4])\n"
     ]
    }
   ],
   "source": [
    "'''如果一个维度至少是1D，另外一个大于2D，则返回的是一个批矩阵乘法（ a batched matrix multiply）'''\n",
    "x = torch.randn(2, 3, 4)\n",
    "y = torch.randn(3)\n",
    "print(torch.matmul(y, x),'\\n',torch.matmul(y, x).size()) #1D*3D"
   ]
  },
  {
   "cell_type": "code",
   "execution_count": 10,
   "metadata": {},
   "outputs": [
    {
     "name": "stdout",
     "output_type": "stream",
     "text": [
      "tensor([[-0.6739, -0.0360,  0.3158],\n",
      "        [-3.4001, -1.0112,  2.8408]]) \n",
      " torch.Size([2, 3])\n"
     ]
    }
   ],
   "source": [
    "x = torch.randn(2, 3, 4)\n",
    "y = torch.randn(4)\n",
    " \n",
    "print(torch.matmul(x, y),'\\n',torch.matmul(x, y).size()) # 3D*1D"
   ]
  },
  {
   "cell_type": "code",
   "execution_count": 11,
   "metadata": {},
   "outputs": [
    {
     "name": "stdout",
     "output_type": "stream",
     "text": [
      "torch.Size([2, 2, 5]) \n",
      " torch.Size([2, 2, 5])\n",
      "True\n"
     ]
    }
   ],
   "source": [
    "'''若input和other都是3D的，则与torch.bmm()函数功能一样'''\n",
    "x = torch.randn(2,2,4)\n",
    "y = torch.randn(2,4,5)\n",
    " \n",
    "print(torch.matmul(x, y).size(),'\\n',torch.bmm(x, y).size())\n",
    "print(torch.equal(torch.matmul(x,y),torch.bmm(x,y)))"
   ]
  },
  {
   "cell_type": "code",
   "execution_count": 12,
   "metadata": {},
   "outputs": [
    {
     "name": "stdout",
     "output_type": "stream",
     "text": [
      "torch.Size([10, 2, 2, 5])\n"
     ]
    }
   ],
   "source": [
    "'''如果input中某一维度满足可以广播（扩充），那么也是可以进行相乘操作的。\n",
    "例如 input（j,1,n,m）*  other (k,m,p)  = output(j,k,n,p)。'''\n",
    "import torch\n",
    "x = torch.randn(10,1,2,4)\n",
    "y = torch.randn(2,4,5)\n",
    " \n",
    "print(torch.matmul(x, y).size())"
   ]
  },
  {
   "cell_type": "markdown",
   "metadata": {},
   "source": [
    "## torch.cat() 函数用法\n",
    "使用torch.cat((A,B),dim)时，除拼接维数dim数值可不同外其余维数数值需相同，方能对齐。"
   ]
  },
  {
   "cell_type": "code",
   "execution_count": 80,
   "metadata": {},
   "outputs": [
    {
     "data": {
      "text/plain": [
       "tensor([[1., 1., 1.],\n",
       "        [1., 1., 1.]])"
      ]
     },
     "execution_count": 80,
     "metadata": {},
     "output_type": "execute_result"
    }
   ],
   "source": [
    "A=torch.ones(2,3) #2x3的张量（矩阵）\n",
    "A"
   ]
  },
  {
   "cell_type": "code",
   "execution_count": 81,
   "metadata": {},
   "outputs": [
    {
     "data": {
      "text/plain": [
       "tensor([[2., 2., 2.],\n",
       "        [2., 2., 2.],\n",
       "        [2., 2., 2.],\n",
       "        [2., 2., 2.]])"
      ]
     },
     "execution_count": 81,
     "metadata": {},
     "output_type": "execute_result"
    }
   ],
   "source": [
    "B=2*torch.ones(4,3)\n",
    "B"
   ]
  },
  {
   "cell_type": "code",
   "execution_count": 82,
   "metadata": {},
   "outputs": [
    {
     "data": {
      "text/plain": [
       "tensor([[1., 1., 1.],\n",
       "        [1., 1., 1.],\n",
       "        [2., 2., 2.],\n",
       "        [2., 2., 2.],\n",
       "        [2., 2., 2.],\n",
       "        [2., 2., 2.]])"
      ]
     },
     "execution_count": 82,
     "metadata": {},
     "output_type": "execute_result"
    }
   ],
   "source": [
    " C=torch.cat((A,B),0)#按维数0（行）拼接\n",
    "C"
   ]
  },
  {
   "cell_type": "code",
   "execution_count": 83,
   "metadata": {},
   "outputs": [
    {
     "data": {
      "text/plain": [
       "torch.Size([6, 3])"
      ]
     },
     "execution_count": 83,
     "metadata": {},
     "output_type": "execute_result"
    }
   ],
   "source": [
    "C.size()#[4+2=6,3]"
   ]
  },
  {
   "cell_type": "code",
   "execution_count": 84,
   "metadata": {},
   "outputs": [
    {
     "data": {
      "text/plain": [
       "tensor([[2., 2., 2., 2.],\n",
       "        [2., 2., 2., 2.]])"
      ]
     },
     "execution_count": 84,
     "metadata": {},
     "output_type": "execute_result"
    }
   ],
   "source": [
    "D=2*torch.ones(2,4) #2x4的张量（矩阵）\n",
    "D"
   ]
  },
  {
   "cell_type": "code",
   "execution_count": 86,
   "metadata": {},
   "outputs": [
    {
     "data": {
      "text/plain": [
       "tensor([[1., 1., 1., 2., 2., 2., 2.],\n",
       "        [1., 1., 1., 2., 2., 2., 2.]])"
      ]
     },
     "execution_count": 86,
     "metadata": {},
     "output_type": "execute_result"
    }
   ],
   "source": [
    "C=torch.cat((A,D),1)#按维数1（列）拼接\n",
    "C"
   ]
  },
  {
   "cell_type": "code",
   "execution_count": null,
   "metadata": {},
   "outputs": [],
   "source": []
  },
  {
   "cell_type": "markdown",
   "metadata": {},
   "source": [
    "## pytorch通过torch.sparse实现稀疏张量\n",
    "什么是稀疏张量？在矩阵中，若数值为0的元素数目远远多于非0元素的数目，并且非0元素分布没有规律时，则称该矩阵为稀疏矩阵；与之相反，若非0元素数目占大多数时，则称该矩阵为稠密矩阵。定义非零元素的总数比上矩阵所有元素的总数为矩阵的稠密度。"
   ]
  },
  {
   "cell_type": "code",
   "execution_count": 17,
   "metadata": {},
   "outputs": [
    {
     "name": "stdout",
     "output_type": "stream",
     "text": [
      "tensor(indices=tensor([], size=(2, 0)),\n",
      "       values=tensor([], size=(0,)),\n",
      "       size=(2, 3), nnz=0, layout=torch.sparse_coo)\n"
     ]
    }
   ],
   "source": [
    "'''构造空的稀疏张量'''\n",
    "print(torch.sparse.FloatTensor(2,3))"
   ]
  },
  {
   "cell_type": "markdown",
   "metadata": {},
   "source": [
    "## 构造稀疏张量\n",
    "稀疏张量被表示为一对致密张量：一维张量和二维张量的索引。可以通过提供这两个张量来构造稀疏张量，以及稀疏张量的大小（不能从这些张量推断出！）假设我们要在位置（0,2）处定义具有条目3的稀疏张量， ，位置（1，0）的条目4，位置（1,2）的条目5。我们会写："
   ]
  },
  {
   "cell_type": "code",
   "execution_count": 18,
   "metadata": {},
   "outputs": [
    {
     "name": "stdout",
     "output_type": "stream",
     "text": [
      "tensor([[0., 0., 3.],\n",
      "        [4., 0., 5.]])\n"
     ]
    }
   ],
   "source": [
    "i = torch.LongTensor([[0, 1, 1],\n",
    "                      [2, 0, 2]])\n",
    "v = torch.FloatTensor([3, 4, 5])\n",
    "print (torch.sparse.FloatTensor(i, v, torch.Size([2,3])).to_dense())"
   ]
  },
  {
   "cell_type": "code",
   "execution_count": null,
   "metadata": {},
   "outputs": [],
   "source": []
  },
  {
   "cell_type": "code",
   "execution_count": 19,
   "metadata": {},
   "outputs": [
    {
     "name": "stdout",
     "output_type": "stream",
     "text": [
      "tensor([3., 4., 5.])\n"
     ]
    }
   ],
   "source": [
    "print(v)"
   ]
  },
  {
   "cell_type": "markdown",
   "metadata": {},
   "source": [
    "## tensor 和Tensor的区别"
   ]
  },
  {
   "cell_type": "code",
   "execution_count": 20,
   "metadata": {},
   "outputs": [
    {
     "data": {
      "text/plain": [
       "tensor(1)"
      ]
     },
     "execution_count": 20,
     "metadata": {},
     "output_type": "execute_result"
    }
   ],
   "source": [
    "a=torch.tensor(1)\n",
    "a"
   ]
  },
  {
   "cell_type": "code",
   "execution_count": 21,
   "metadata": {},
   "outputs": [
    {
     "data": {
      "text/plain": [
       "'torch.LongTensor'"
      ]
     },
     "execution_count": 21,
     "metadata": {},
     "output_type": "execute_result"
    }
   ],
   "source": [
    "a.type()"
   ]
  },
  {
   "cell_type": "code",
   "execution_count": 22,
   "metadata": {},
   "outputs": [
    {
     "data": {
      "text/plain": [
       "tensor([0.])"
      ]
     },
     "execution_count": 22,
     "metadata": {},
     "output_type": "execute_result"
    }
   ],
   "source": [
    "b = torch.Tensor(1)\n",
    "b"
   ]
  },
  {
   "cell_type": "code",
   "execution_count": 23,
   "metadata": {},
   "outputs": [
    {
     "data": {
      "text/plain": [
       "'torch.FloatTensor'"
      ]
     },
     "execution_count": 23,
     "metadata": {},
     "output_type": "execute_result"
    }
   ],
   "source": [
    "b.type()"
   ]
  },
  {
   "cell_type": "code",
   "execution_count": 24,
   "metadata": {},
   "outputs": [
    {
     "data": {
      "text/plain": [
       "tensor([8026363888824579189])"
      ]
     },
     "execution_count": 24,
     "metadata": {},
     "output_type": "execute_result"
    }
   ],
   "source": [
    "c=torch.LongTensor(1)\n",
    "c"
   ]
  },
  {
   "cell_type": "code",
   "execution_count": 25,
   "metadata": {},
   "outputs": [
    {
     "data": {
      "text/plain": [
       "'torch.LongTensor'"
      ]
     },
     "execution_count": 25,
     "metadata": {},
     "output_type": "execute_result"
    }
   ],
   "source": [
    "c.type()"
   ]
  },
  {
   "cell_type": "code",
   "execution_count": null,
   "metadata": {},
   "outputs": [],
   "source": []
  },
  {
   "cell_type": "markdown",
   "metadata": {},
   "source": [
    "## pytorch nn.init 中实现的初始化函数 uniform, normal, const, Xavier, He initialization"
   ]
  },
  {
   "cell_type": "code",
   "execution_count": null,
   "metadata": {},
   "outputs": [],
   "source": []
  },
  {
   "cell_type": "markdown",
   "metadata": {},
   "source": [
    "### 分布函数·\n",
    "'''1. 均匀分布'''\n",
    "torch.nn.init.uniform_(tensor, a=0, b=1)\n",
    "服从~U(a,b)\n",
    "\n",
    "'''2. 正太分布'''\n",
    "torch.nn.init.normal_(tensor, mean=0, std=1)\n",
    "服从~N (mean,std) \n",
    "\n",
    "'''3. 初始化为常数'''\n",
    "torch.nn.init.constant_(tensor, val)\n",
    "初始化整个矩阵为常数val"
   ]
  },
  {
   "cell_type": "markdown",
   "metadata": {},
   "source": [
    "## nn.Embedding\n",
    "torch.nn.Embedding(num_embeddings, embedding_dim, padding_idx=None, max_norm=None, norm_type=2.0, scale_grad_by_freq=False, sparse=False, _weight=None)\n",
    "\n",
    "其为一个简单的存储固定大小的词典的嵌入向量的查找表，意思就是说，给一个编号，嵌入层就能返回这个编号对应的嵌入向量，嵌入向量反映了各个编号代表的符号之间的语义关系。\n",
    "\n",
    "输入为一个编号列表，输出为对应的符号嵌入向量列表。\n",
    "\n",
    "参数解释\n",
    "\n",
    "num_embeddings (python:int) – 词典的大小尺寸，比如总共出现5000个词，那就输入5000。此时index为（0-4999）\n",
    "\n",
    "embedding_dim (python:int) – 嵌入向量的维度，即用多少维来表示一个符号。\n",
    "\n",
    "padding_idx (python:int, optional) – 填充id，比如，输入长度为100，但是每次的句子长度并不一样，后面就需要用统一的数字填充，而这里就是指定这个数字，这样，网络在遇到填充id时，就不会计算其与其它符号的相关性。（初始化为0）\n",
    "\n",
    "max_norm (python:float, optional) – 最大范数，如果嵌入向量的范数超过了这个界限，就要进行再归一化。\n",
    "\n",
    "norm_type (python:float, optional) – 指定利用什么范数计算，并用于对比max_norm，默认为2范数。\n",
    "\n",
    "scale_grad_by_freq (boolean, optional) – 根据单词在mini-batch中出现的频率，对梯度进行放缩。默认为False.\n",
    "\n",
    "sparse (bool, optional) – 若为True,则与权重矩阵相关的梯度转变为稀疏张量。\n",
    "\n",
    "变量\n",
    "~Embedding.weight (Tensor) –形状为 (num_embeddings, embedding_dim) 的学习权重采用标准正态分布N(0,1)进行初始化\n",
    "\n",
    "\n",
    "I/O形状\n",
    "输入: (∗) , 包含提取的编号的任意形状的长整型张量。\n",
    "\n",
    "输出: (∗,H) , 其中 * 为输入的形状，H为embedding_dim\n",
    "\n",
    "一些注意的点:\n",
    " nn.embedding的输入只能是编号，不能是隐藏变量，比如one-hot，或者其它，这种情况，可以自己建一个自定义维度的线性网络层，参数训练可以单独训练或者跟随整个网络一起训练（看实验需要）\n",
    " \n",
    "如果你指定了padding_idx，注意这个padding_idx也是在num_embeddings尺寸内的，比如符号总共有500个，指定了padding_idx，那么num_embeddings应该为501\n",
    "\n",
    "embedding_dim的选择要注意，根据自己的符号数量，举个例子，如果你的词典尺寸是1024，那么极限压缩（用二进制表示）也需要10维，再考虑词性之间的相关性，怎么也要在15-20维左右，虽然embedding是用来降维的，但是也要注意这种极限维度，结合实际情况，合理定义"
   ]
  },
  {
   "cell_type": "code",
   "execution_count": 48,
   "metadata": {},
   "outputs": [
    {
     "name": "stdout",
     "output_type": "stream",
     "text": [
      "tensor([[ 0.7832, -0.1528, -0.3995,  0.0221,  1.5177]],\n",
      "       grad_fn=<EmbeddingBackward>)\n"
     ]
    }
   ],
   "source": [
    "word_to_ix = {'hello':0,\"world\":1}\n",
    "embeds = nn.Embedding(2,5)\n",
    "hello_idx = torch.LongTensor([word_to_ix['hello']])\n",
    "hello_idx = Variable(hello_idx)\n",
    "hello_embed = embeds(hello_idx)\n",
    "print(hello_embed)"
   ]
  },
  {
   "cell_type": "code",
   "execution_count": 43,
   "metadata": {},
   "outputs": [
    {
     "data": {
      "text/plain": [
       "tensor([0])"
      ]
     },
     "execution_count": 43,
     "metadata": {},
     "output_type": "execute_result"
    }
   ],
   "source": [
    "hell0_0 = torch.LongTensor([word_to_ix['hello']])\n",
    "hell0_0"
   ]
  },
  {
   "cell_type": "code",
   "execution_count": 44,
   "metadata": {},
   "outputs": [
    {
     "data": {
      "text/plain": [
       "tensor([0])"
      ]
     },
     "execution_count": 44,
     "metadata": {},
     "output_type": "execute_result"
    }
   ],
   "source": [
    "hello_1 = Variable(hell0_0)\n",
    "hello_1"
   ]
  },
  {
   "cell_type": "code",
   "execution_count": 61,
   "metadata": {},
   "outputs": [
    {
     "name": "stdout",
     "output_type": "stream",
     "text": [
      "tensor([[ 1.7316,  0.1431,  1.6642, -0.0410,  0.3679]],\n",
      "       grad_fn=<EmbeddingBackward>)\n"
     ]
    }
   ],
   "source": [
    "word_to_ix = {'hello':0,\"world\":1}\n",
    "embeds = nn.Embedding(2,5)\n",
    "world_idx = torch.LongTensor([word_to_ix['world']])\n",
    "world_idx = Variable(hello_idx)\n",
    "world_embed = embeds(hello_idx)\n",
    "print(world_embed)\n"
   ]
  },
  {
   "cell_type": "code",
   "execution_count": 62,
   "metadata": {
    "scrolled": true
   },
   "outputs": [
    {
     "name": "stdout",
     "output_type": "stream",
     "text": [
      "tensor([ 1.7316,  0.1431,  1.6642, -0.0410,  0.3679], grad_fn=<SumBackward1>)\n"
     ]
    }
   ],
   "source": [
    "print(world_embed.sum(0))"
   ]
  },
  {
   "cell_type": "code",
   "execution_count": null,
   "metadata": {},
   "outputs": [],
   "source": []
  },
  {
   "cell_type": "markdown",
   "metadata": {},
   "source": [
    "## torch.nn.Functional.softmax()\n",
    "\n",
    "对n维输入张量运用Softmax函数，将张量的每个元素缩放到（0,1）区间且和为1。Softmax函数定义如下：\n",
    "\n",
    "参数：\n",
    "\n",
    "　　dim:指明维度，dim=0表示按列计算；dim=1表示按行计算。默认dim的方法已经弃用了，最好声明dim，否则会警告：\n",
    "\n",
    "UserWarning: Implicit dimension choice for softmax has been deprecated. Change the call to include dim=X as an argument.\n",
    "shape：\n",
    "\n",
    "输入：(N, L)\n",
    "输出：(N, L)\n",
    "返回结果是一个与输入维度dim相同的张量，每个元素的取值范围在（0,1）区间。"
   ]
  },
  {
   "cell_type": "code",
   "execution_count": null,
   "metadata": {},
   "outputs": [],
   "source": []
  },
  {
   "cell_type": "code",
   "execution_count": 100,
   "metadata": {},
   "outputs": [],
   "source": [
    "a=torch.rand(3,4,5)\n",
    "b=F.softmax(a,dim=0)#行相加为1\n",
    "c=F.softmax(a,dim=1)#列相加为1\n",
    "d=F.softmax(a,dim=2)"
   ]
  },
  {
   "cell_type": "code",
   "execution_count": 101,
   "metadata": {},
   "outputs": [
    {
     "data": {
      "text/plain": [
       "tensor([[[0.3783, 0.2270, 0.9079, 0.1629, 0.6276],\n",
       "         [0.6131, 0.6956, 0.7968, 0.9115, 0.8882],\n",
       "         [0.9051, 0.9833, 0.3628, 0.5687, 0.5645],\n",
       "         [0.9532, 0.9137, 0.0150, 0.2194, 0.0024]],\n",
       "\n",
       "        [[0.2523, 0.0413, 0.1589, 0.5754, 0.0428],\n",
       "         [0.3193, 0.6116, 0.5188, 0.9125, 0.7823],\n",
       "         [0.4550, 0.3728, 0.7358, 0.6593, 0.2157],\n",
       "         [0.4065, 0.1797, 0.3456, 0.5892, 0.4806]],\n",
       "\n",
       "        [[0.1493, 0.9918, 0.8847, 0.9445, 0.8184],\n",
       "         [0.1137, 0.0351, 0.3952, 0.0972, 0.0993],\n",
       "         [0.8928, 0.8284, 0.2603, 0.3176, 0.5357],\n",
       "         [0.1225, 0.3313, 0.3514, 0.1266, 0.4822]]])"
      ]
     },
     "execution_count": 101,
     "metadata": {},
     "output_type": "execute_result"
    }
   ],
   "source": [
    "a"
   ]
  },
  {
   "cell_type": "code",
   "execution_count": 102,
   "metadata": {},
   "outputs": [
    {
     "data": {
      "text/plain": [
       "tensor([[[0.3736, 0.2513, 0.4082, 0.2130, 0.3613],\n",
       "         [0.4251, 0.4105, 0.4121, 0.4092, 0.4248],\n",
       "         [0.3809, 0.4167, 0.2981, 0.3481, 0.3735],\n",
       "         [0.4964, 0.4906, 0.2637, 0.2977, 0.2365]],\n",
       "\n",
       "        [[0.3293, 0.2087, 0.1930, 0.3217, 0.2014],\n",
       "         [0.3169, 0.3774, 0.3121, 0.4096, 0.3822],\n",
       "         [0.2428, 0.2263, 0.4328, 0.3811, 0.2635],\n",
       "         [0.2873, 0.2355, 0.3671, 0.4309, 0.3815]],\n",
       "\n",
       "        [[0.2971, 0.5400, 0.3988, 0.4653, 0.4373],\n",
       "         [0.2580, 0.2121, 0.2758, 0.1812, 0.1930],\n",
       "         [0.3763, 0.3569, 0.2690, 0.2708, 0.3629],\n",
       "         [0.2163, 0.2740, 0.3692, 0.2713, 0.3821]]])"
      ]
     },
     "execution_count": 102,
     "metadata": {},
     "output_type": "execute_result"
    }
   ],
   "source": [
    "b"
   ]
  },
  {
   "cell_type": "code",
   "execution_count": 103,
   "metadata": {},
   "outputs": [
    {
     "data": {
      "text/plain": [
       "tensor([[[0.1744, 0.1489, 0.3467, 0.1763, 0.2651],\n",
       "         [0.2205, 0.2379, 0.3103, 0.3727, 0.3441],\n",
       "         [0.2953, 0.3172, 0.2010, 0.2645, 0.2489],\n",
       "         [0.3098, 0.2959, 0.1420, 0.1865, 0.1419]],\n",
       "\n",
       "        [[0.2242, 0.1883, 0.1845, 0.2221, 0.1714],\n",
       "         [0.2397, 0.3331, 0.2645, 0.3111, 0.3592],\n",
       "         [0.2745, 0.2623, 0.3286, 0.2415, 0.2038],\n",
       "         [0.2616, 0.2163, 0.2224, 0.2252, 0.2656]],\n",
       "\n",
       "        [[0.1983, 0.3636, 0.3656, 0.4159, 0.3384],\n",
       "         [0.1914, 0.1397, 0.2241, 0.1783, 0.1649],\n",
       "         [0.4172, 0.3088, 0.1958, 0.2222, 0.2550],\n",
       "         [0.1931, 0.1878, 0.2145, 0.1836, 0.2418]]])"
      ]
     },
     "execution_count": 103,
     "metadata": {},
     "output_type": "execute_result"
    }
   ],
   "source": [
    "c"
   ]
  },
  {
   "cell_type": "code",
   "execution_count": 104,
   "metadata": {},
   "outputs": [
    {
     "data": {
      "text/plain": [
       "tensor([[[0.1771, 0.1522, 0.3007, 0.1428, 0.2272],\n",
       "         [0.1680, 0.1825, 0.2019, 0.2264, 0.2212],\n",
       "         [0.2446, 0.2645, 0.1422, 0.1747, 0.1740],\n",
       "         [0.3106, 0.2986, 0.1216, 0.1491, 0.1200]],\n",
       "\n",
       "        [[0.2035, 0.1648, 0.1854, 0.2812, 0.1651],\n",
       "         [0.1437, 0.1925, 0.1754, 0.2601, 0.2283],\n",
       "         [0.1901, 0.1751, 0.2518, 0.2332, 0.1497],\n",
       "         [0.1994, 0.1589, 0.1876, 0.2394, 0.2147]],\n",
       "\n",
       "        [[0.1044, 0.2425, 0.2179, 0.2313, 0.2039],\n",
       "         [0.1916, 0.1771, 0.2539, 0.1885, 0.1889],\n",
       "         [0.2680, 0.2513, 0.1424, 0.1508, 0.1875],\n",
       "         [0.1687, 0.2079, 0.2121, 0.1694, 0.2418]]])"
      ]
     },
     "execution_count": 104,
     "metadata": {},
     "output_type": "execute_result"
    }
   ],
   "source": [
    "d"
   ]
  },
  {
   "cell_type": "markdown",
   "metadata": {},
   "source": [
    "# torch.matmul和torch.mm和*区别"
   ]
  },
  {
   "cell_type": "markdown",
   "metadata": {},
   "source": [
    "## 1.a * b，要求两个矩阵维度完全一致，即两个矩阵对应元素相乘，输出的维度也和原矩阵维度相同：\n"
   ]
  },
  {
   "cell_type": "code",
   "execution_count": 130,
   "metadata": {},
   "outputs": [
    {
     "name": "stdout",
     "output_type": "stream",
     "text": [
      "tensor([[0.2016, 1.0752, 1.2720],\n",
      "        [1.7327, 0.6216, 0.5495]])\n"
     ]
    }
   ],
   "source": [
    "a = torch.randn(2,3)\n",
    "b = torch.randn(2,3)\n",
    "print(a)\n"
   ]
  },
  {
   "cell_type": "code",
   "execution_count": 131,
   "metadata": {},
   "outputs": [
    {
     "data": {
      "text/plain": [
       "tensor([[-0.0035,  2.3888,  0.0118],\n",
       "        [-1.9447, -0.2052, -0.0535]])"
      ]
     },
     "execution_count": 131,
     "metadata": {},
     "output_type": "execute_result"
    }
   ],
   "source": [
    "b"
   ]
  },
  {
   "cell_type": "code",
   "execution_count": 132,
   "metadata": {},
   "outputs": [
    {
     "data": {
      "text/plain": [
       "tensor([[-6.9836e-04,  2.5684e+00,  1.5040e-02],\n",
       "        [-3.3695e+00, -1.2754e-01, -2.9387e-02]])"
      ]
     },
     "execution_count": 132,
     "metadata": {},
     "output_type": "execute_result"
    }
   ],
   "source": [
    "c = a * b\n",
    "c"
   ]
  },
  {
   "cell_type": "code",
   "execution_count": 135,
   "metadata": {},
   "outputs": [
    {
     "data": {
      "text/plain": [
       "torch.Size([10, 45, 3, 150])"
      ]
     },
     "execution_count": 135,
     "metadata": {},
     "output_type": "execute_result"
    }
   ],
   "source": [
    "a = torch.randn(10,45,3,150)\n",
    "b = torch.randn(10,45,3,1)\n",
    "c=torch.mul(a,b)\n",
    "c.size()"
   ]
  },
  {
   "cell_type": "markdown",
   "metadata": {},
   "source": [
    "## 2.torch.mm(a,b)，要求两个矩阵维度是（n×m）和（m×p），即普通二维矩阵乘法"
   ]
  },
  {
   "cell_type": "code",
   "execution_count": 114,
   "metadata": {},
   "outputs": [
    {
     "data": {
      "text/plain": [
       "tensor([[ 0.4299, -1.9049, -1.2430],\n",
       "        [-0.9601, -0.3914,  0.3194]])"
      ]
     },
     "execution_count": 114,
     "metadata": {},
     "output_type": "execute_result"
    }
   ],
   "source": [
    "\n",
    "a = torch.randn(2,3)\n",
    "b = torch.randn(3,2)\n",
    "a"
   ]
  },
  {
   "cell_type": "code",
   "execution_count": 115,
   "metadata": {},
   "outputs": [
    {
     "data": {
      "text/plain": [
       "tensor([[ 0.2237, -1.0325],\n",
       "        [-0.0828,  1.3004],\n",
       "        [-1.5258,  1.3109]])"
      ]
     },
     "execution_count": 115,
     "metadata": {},
     "output_type": "execute_result"
    }
   ],
   "source": [
    "b"
   ]
  },
  {
   "cell_type": "code",
   "execution_count": 116,
   "metadata": {},
   "outputs": [
    {
     "data": {
      "text/plain": [
       "tensor([[ 2.1505, -4.5504],\n",
       "        [-0.6697,  0.9010]])"
      ]
     },
     "execution_count": 116,
     "metadata": {},
     "output_type": "execute_result"
    }
   ],
   "source": [
    "c = torch.mm(a,b)\n",
    "c"
   ]
  },
  {
   "cell_type": "code",
   "execution_count": 117,
   "metadata": {},
   "outputs": [
    {
     "data": {
      "text/plain": [
       "torch.Size([2, 2])"
      ]
     },
     "execution_count": 117,
     "metadata": {},
     "output_type": "execute_result"
    }
   ],
   "source": [
    "c.size()"
   ]
  },
  {
   "cell_type": "markdown",
   "metadata": {},
   "source": [
    "## 3.torch.matul(a,b)，matmul可以进行张量乘法，输入可以是高维，当输入是多维时，把多出的一维作为batch提出来，其他部分做矩阵乘法"
   ]
  },
  {
   "cell_type": "code",
   "execution_count": 118,
   "metadata": {},
   "outputs": [
    {
     "data": {
      "text/plain": [
       "tensor([[[-0.1778, -1.8281,  0.0349,  0.7870],\n",
       "         [ 0.6607,  0.3055, -0.9301,  1.4361],\n",
       "         [-0.0333, -0.8831, -0.8441,  0.0711]],\n",
       "\n",
       "        [[ 0.7931,  0.2878, -1.6983, -0.5097],\n",
       "         [-0.8375,  0.0132, -1.1531,  1.8372],\n",
       "         [-0.1430, -0.0403,  1.2021, -2.2361]],\n",
       "\n",
       "        [[ 0.9841, -0.6637, -0.3836,  1.7556],\n",
       "         [-0.0116,  1.1695,  0.5287, -0.3386],\n",
       "         [ 1.3123,  0.7058,  0.0612,  1.2197]],\n",
       "\n",
       "        [[ 1.2811, -1.8927,  0.1022,  1.6136],\n",
       "         [ 0.5823,  3.0359, -0.4347, -0.5464],\n",
       "         [-0.8674,  0.0714, -0.6749,  0.7755]],\n",
       "\n",
       "        [[-0.7319, -0.7105,  1.2562, -0.9517],\n",
       "         [-0.5327, -1.0378,  0.6527, -0.8125],\n",
       "         [-0.1975, -1.5991,  0.6243,  1.3544]]])"
      ]
     },
     "execution_count": 118,
     "metadata": {},
     "output_type": "execute_result"
    }
   ],
   "source": [
    "a = torch.randn(5,3,4)\n",
    "b = torch.randn(4,2)\n",
    "a"
   ]
  },
  {
   "cell_type": "code",
   "execution_count": 119,
   "metadata": {},
   "outputs": [
    {
     "data": {
      "text/plain": [
       "tensor([[ 1.2540,  1.1974],\n",
       "        [ 0.1955, -0.8339],\n",
       "        [ 0.2640, -0.0046],\n",
       "        [-1.0732,  1.3390]])"
      ]
     },
     "execution_count": 119,
     "metadata": {},
     "output_type": "execute_result"
    }
   ],
   "source": [
    "b"
   ]
  },
  {
   "cell_type": "code",
   "execution_count": 121,
   "metadata": {},
   "outputs": [
    {
     "data": {
      "text/plain": [
       "tensor([[[-1.4158,  2.3651],\n",
       "         [-0.8985,  2.4636],\n",
       "         [-0.5136,  0.7957]],\n",
       "\n",
       "        [[ 1.1494,  0.0349],\n",
       "         [-3.3238,  1.4513],\n",
       "         [ 2.5300, -3.1372]],\n",
       "\n",
       "        [[-0.8810,  4.0843],\n",
       "         [ 0.7170, -1.4449],\n",
       "         [ 0.4909,  2.6157]],\n",
       "\n",
       "        [[-0.4682,  5.2724],\n",
       "         [ 1.7954, -2.5640],\n",
       "         [-2.0841, -0.0568]],\n",
       "\n",
       "        [[ 0.2964, -1.5640],\n",
       "         [ 0.1734, -0.8634],\n",
       "         [-1.8490,  2.9077]]])"
      ]
     },
     "execution_count": 121,
     "metadata": {},
     "output_type": "execute_result"
    }
   ],
   "source": [
    "c = torch.matmul(a,b)\n",
    "c"
   ]
  },
  {
   "cell_type": "code",
   "execution_count": 122,
   "metadata": {},
   "outputs": [
    {
     "data": {
      "text/plain": [
       "torch.Size([5, 3, 2])"
      ]
     },
     "execution_count": 122,
     "metadata": {},
     "output_type": "execute_result"
    }
   ],
   "source": [
    "c.size()"
   ]
  },
  {
   "cell_type": "code",
   "execution_count": 123,
   "metadata": {},
   "outputs": [
    {
     "data": {
      "text/plain": [
       "torch.Size([2, 5, 4])"
      ]
     },
     "execution_count": 123,
     "metadata": {},
     "output_type": "execute_result"
    }
   ],
   "source": [
    "a = torch.randn(2,5,3)\n",
    "b = torch.randn(1,3,4)\n",
    "c = torch.matmul(a,b)\n",
    "c.size()"
   ]
  },
  {
   "cell_type": "code",
   "execution_count": 124,
   "metadata": {},
   "outputs": [
    {
     "data": {
      "text/plain": [
       "torch.Size([10, 45, 45])"
      ]
     },
     "execution_count": 124,
     "metadata": {},
     "output_type": "execute_result"
    }
   ],
   "source": [
    "a = torch.randn(10,45,45)\n",
    "b = torch.randn(10,45,45)\n",
    "c = torch.matmul(a,b)\n",
    "c.size()"
   ]
  },
  {
   "cell_type": "code",
   "execution_count": null,
   "metadata": {},
   "outputs": [],
   "source": []
  },
  {
   "cell_type": "code",
   "execution_count": null,
   "metadata": {},
   "outputs": [],
   "source": []
  },
  {
   "cell_type": "code",
   "execution_count": null,
   "metadata": {},
   "outputs": [],
   "source": []
  },
  {
   "cell_type": "code",
   "execution_count": null,
   "metadata": {},
   "outputs": [],
   "source": []
  },
  {
   "cell_type": "code",
   "execution_count": null,
   "metadata": {},
   "outputs": [],
   "source": []
  },
  {
   "cell_type": "markdown",
   "metadata": {},
   "source": [
    "## torch.nn.LSTM()\n",
    "\n",
    "输入的参数列表包括:\n",
    "\n",
    "input_size 输入数据的特征维数，通常就是embedding_dim(词向量的维度)\n",
    "\n",
    "hidden_size　LSTM中隐层的维度\n",
    "\n",
    "num_layers　循环神经网络的层数\n",
    "\n",
    "bias　用不用偏置，default=True\n",
    "\n",
    "batch_first 这个要注意，通常我们输入的数据shape=(batch_size,seq_length,embedding_dim),而batch_first默认是False,所以我们的输入数据最好送进LSTM之前将batch_size与seq_length这两个维度调换\n",
    "\n",
    "dropout　默认是0，代表不用dropout\n",
    "\n",
    "bidirectional默认是false，代表不用双向LSTM\n",
    "\n",
    "输入数据包括input,(h_0,c_0):\n",
    "\n",
    "input就是shape==(seq_length,batch_size,input_size)的张量\n",
    "\n",
    "h_0的shape==(num_layers*num_directions,batch,hidden_size)的张量，它包含了在当前这个batch_size中每个句子的初始隐藏状态，num_layers就是LSTM的层数，如果bidirectional=True,num_directions=2,否则就是１，表示只有一个方向，\n",
    "\n",
    "c_0和h_0的形状相同，它包含的是在当前这个batch_size中的每个句子的初始细胞状态。h_0,c_0如果不提供，那么默认是０\n",
    "\n",
    "输出数据包括output,(h_n,c_n):\n",
    "\n",
    "output的shape==(seq_length,batch_size,num_directions*hidden_size),\n",
    "它包含的LSTM的最后一层的输出特征(h_t),ｔ是batch_size中每个句子的长度.\n",
    "\n",
    "h_n.shape==(num_directions * num_layers,batch,hidden_size)\n",
    "c_n.shape==h_n.shape\n",
    "h_n包含的是句子的最后一个单词的隐藏状态，c_n包含的是句子的最后一个单词的细胞状态，所以它们都与句子的长度seq_length无关。"
   ]
  },
  {
   "cell_type": "markdown",
   "metadata": {},
   "source": [
    "## \n",
    "batch_first 这个要注意，通常我们输入的数据shape=(batch_size,seq_length,embedding_dim),而batch_first默认是False,所以我们的输入数据最好送进LSTM之前将batch_size与seq_length这两个维度调换，如果batch_first=true，则输入的shape为[batchsize,seq_length,input_Size]"
   ]
  },
  {
   "attachments": {
    "image.png": {
     "image/png": "[encoded data removed]"
    }
   },
   "cell_type": "markdown",
   "metadata": {},
   "source": [
    "## ![image.png](attachment:image.png)"
   ]
  },
  {
   "cell_type": "code",
   "execution_count": 109,
   "metadata": {},
   "outputs": [
    {
     "data": {
      "text/plain": [
       "torch.Size([50, 3, 40])"
      ]
     },
     "execution_count": 109,
     "metadata": {},
     "output_type": "execute_result"
    }
   ],
   "source": [
    "lstm=nn.LSTM(10,20,5,bidirectional=True)\n",
    "batch1=torch.randn(50,3,10)\n",
    "outputs,(h,c)=lstm(batch1)\n",
    "outputs.size()\n"
   ]
  },
  {
   "cell_type": "code",
   "execution_count": null,
   "metadata": {},
   "outputs": [],
   "source": []
  },
  {
   "cell_type": "code",
   "execution_count": null,
   "metadata": {},
   "outputs": [],
   "source": []
  },
  {
   "cell_type": "code",
   "execution_count": null,
   "metadata": {},
   "outputs": [],
   "source": []
  },
  {
   "attachments": {
    "image.png": {
     "image/png": "[encoded data removed]"
    }
   },
   "cell_type": "markdown",
   "metadata": {},
   "source": [
    "## PyTorch中tensor.repeat()的使用\n",
    "![image.png](attachment:image.png)"
   ]
  },
  {
   "cell_type": "markdown",
   "metadata": {},
   "source": [
    "## torch.stack()\n",
    "使用stack可以保留两个信息：[1. 序列] 和 [2. 张量矩阵] 信息，属于【扩张再拼接】的函数；可以认为把一个个矩阵按时间序列压紧成一个矩阵。 常出现在自然语言处理（NLP）和图像卷积神经网络(CV)中。\n",
    "\n",
    "\n",
    "官方解释：沿着一个新维度对输入张量序列进行连接。 序列中所有的张量都应该为相同形状。\n",
    "\n",
    "浅显说法：把多个2维的张量凑成一个3维的张量；多个3维的凑成一个4维的张量…以此类推，也就是在增加新的维度进行堆叠。\n",
    "\n",
    "outputs = torch.stack(inputs, dim=?) → Tensor"
   ]
  },
  {
   "cell_type": "code",
   "execution_count": 51,
   "metadata": {},
   "outputs": [],
   "source": [
    "# 假设是时间步T1的输出\n",
    "T1 = torch.tensor([[1, 2, 3],\n",
    "        \t\t[4, 5, 6],\n",
    "        \t\t[7, 8, 9]])\n",
    "# 假设是时间步T2的输出\n",
    "T2 = torch.tensor([[10, 20, 30],\n",
    "        \t\t[40, 50, 60],\n",
    "        \t\t[70, 80, 90]])"
   ]
  },
  {
   "cell_type": "code",
   "execution_count": 59,
   "metadata": {},
   "outputs": [
    {
     "name": "stdout",
     "output_type": "stream",
     "text": [
      "torch.Size([3, 3, 2])\n",
      "torch.Size([2, 3, 3])\n",
      "torch.Size([3, 2, 3])\n",
      "torch.Size([3, 3, 2])\n"
     ]
    }
   ],
   "source": [
    "print(torch.stack((T1,T2),dim=-1).shape)\n",
    "print(torch.stack((T1,T2),dim=0).shape)\n",
    "print(torch.stack((T1,T2),dim=1).shape)\n",
    "print(torch.stack((T1,T2),dim=2).shape)\n"
   ]
  },
  {
   "cell_type": "code",
   "execution_count": null,
   "metadata": {},
   "outputs": [],
   "source": []
  },
  {
   "cell_type": "markdown",
   "metadata": {},
   "source": [
    "# torch.sum()的用法\n",
    "torch.sum()对输入的tensor数据的某一维度求和，一共两种用法\n",
    "\n",
    "１．torch.sum(input, dtype=None)\n",
    "\n",
    "\n",
    "\n",
    "２．torch.sum(input, list: dim, bool: keepdim=False, dtype=None) → Tensor\n",
    "\n",
    "\n",
    "\n",
    "input:输入一个tensor\n",
    "dim:要求和的维度，可以是一个列表\n",
    "keepdim:求和之后这个dim的元素个数为１，所以要被去掉，如果要保留这个维度，则应当keepdim=True\n",
    "#If keepdim is True, the output tensor is of the same size as input except in the dimension(s) dim where it is of size 1. "
   ]
  },
  {
   "cell_type": "code",
   "execution_count": 136,
   "metadata": {},
   "outputs": [
    {
     "name": "stdout",
     "output_type": "stream",
     "text": [
      "tensor([[1., 1., 1.],\n",
      "        [1., 1., 1.]])\n"
     ]
    }
   ],
   "source": [
    "a = torch.ones((2, 3))\n",
    "print(a)"
   ]
  },
  {
   "cell_type": "code",
   "execution_count": 138,
   "metadata": {},
   "outputs": [
    {
     "data": {
      "text/plain": [
       "tensor(6.)"
      ]
     },
     "execution_count": 138,
     "metadata": {},
     "output_type": "execute_result"
    }
   ],
   "source": [
    "a1 =  torch.sum(a)\n",
    "a2 =  torch.sum(a, dim=0)\n",
    "a3 =  torch.sum(a, dim=1)\n",
    "a1"
   ]
  },
  {
   "cell_type": "code",
   "execution_count": 139,
   "metadata": {},
   "outputs": [
    {
     "data": {
      "text/plain": [
       "tensor([2., 2., 2.])"
      ]
     },
     "execution_count": 139,
     "metadata": {},
     "output_type": "execute_result"
    }
   ],
   "source": [
    "a2"
   ]
  },
  {
   "cell_type": "code",
   "execution_count": 140,
   "metadata": {},
   "outputs": [
    {
     "data": {
      "text/plain": [
       "tensor([3., 3.])"
      ]
     },
     "execution_count": 140,
     "metadata": {},
     "output_type": "execute_result"
    }
   ],
   "source": [
    "a3"
   ]
  },
  {
   "cell_type": "markdown",
   "metadata": {},
   "source": [
    "# torch.unsqueeze()的用法\n",
    "squeeze的用法主要就是对数据的维度进行压缩或者解压。\n",
    "\n",
    "先看torch.squeeze() 这个函数主要对数据的维度进行压缩，去掉维数为1的的维度，比如是一行或者一列这种，一个一行三列（1,3）的数去掉第一个维数为一的维度之后就变成（3）行。squeeze(a)就是将a中所有为1的维度删掉。不为1的维度没有影响。a.squeeze(N) 就是去掉a中指定的维数为一的维度。还有一种形式就是b=torch.squeeze(a，N) a中去掉指定的定的维数为一的维度。\n",
    "\n",
    "再看torch.unsqueeze()这个函数主要是对数据维度进行扩充。给指定位置加上维数为一的维度，比如原本有个三行的数据（3），在0的位置加了一维就变成一行三列（1,3）。a.squeeze(N) 就是在a中指定位置N加上一个维数为1的维度。还有一种形式就是b=torch.squeeze(a，N) a就是在a中指定位置N加上一个维数为1的维度\n",
    "\n"
   ]
  },
  {
   "cell_type": "code",
   "execution_count": 125,
   "metadata": {},
   "outputs": [
    {
     "name": "stdout",
     "output_type": "stream",
     "text": [
      "torch.Size([3, 2, 4, 1, 2, 1])\n"
     ]
    }
   ],
   "source": [
    "\n",
    "x = torch.zeros(3,2,4,1,2,1)# dimension of 3*2*4*1*2\n",
    "print(x.size()) "
   ]
  },
  {
   "cell_type": "code",
   "execution_count": 126,
   "metadata": {},
   "outputs": [
    {
     "name": "stdout",
     "output_type": "stream",
     "text": [
      "torch.Size([3, 2, 4, 2])\n"
     ]
    }
   ],
   "source": [
    "y = torch.squeeze(x)        # Returns a tensor with all the dimensions of input of size 1 removed.\n",
    "print(y.size()) "
   ]
  },
  {
   "cell_type": "code",
   "execution_count": 127,
   "metadata": {},
   "outputs": [
    {
     "name": "stdout",
     "output_type": "stream",
     "text": [
      "torch.Size([1, 3, 2, 4, 2])\n"
     ]
    }
   ],
   "source": [
    "\n",
    "z = torch.unsqueeze(y,dim=0)# Add a dimension of 1 in the 0th position\n",
    "print(z.size())"
   ]
  },
  {
   "cell_type": "code",
   "execution_count": 128,
   "metadata": {},
   "outputs": [
    {
     "name": "stdout",
     "output_type": "stream",
     "text": [
      "torch.Size([3, 1, 2, 4, 2])\n"
     ]
    }
   ],
   "source": [
    "z = torch.unsqueeze(y,dim=1)# Add a dimension of 1 in the 1st position\n",
    "print(z.size()) "
   ]
  },
  {
   "cell_type": "code",
   "execution_count": 129,
   "metadata": {},
   "outputs": [
    {
     "name": "stdout",
     "output_type": "stream",
     "text": [
      "torch.Size([3, 2, 1, 4, 2])\n"
     ]
    }
   ],
   "source": [
    "z = torch.unsqueeze(y,dim=2)# Add a dimension of 1 in the 2nd position\n",
    "print(z.size())  "
   ]
  },
  {
   "cell_type": "code",
   "execution_count": null,
   "metadata": {},
   "outputs": [],
   "source": []
  },
  {
   "cell_type": "code",
   "execution_count": null,
   "metadata": {},
   "outputs": [],
   "source": []
  },
  {
   "cell_type": "code",
   "execution_count": null,
   "metadata": {},
   "outputs": [],
   "source": []
  },
  {
   "cell_type": "code",
   "execution_count": null,
   "metadata": {},
   "outputs": [],
   "source": []
  },
  {
   "cell_type": "markdown",
   "metadata": {},
   "source": [
    "## torch.Variable()\n",
    "torch.autograd.Variable [source]  ：自动微分变量，用于构建计算图\n",
    "\n",
    "是Autograd的核心类，浅封装（thin wrapper）了Tensor，用于整合实现反向传播。torch0.4后张量与自动微分变量整合，tensor直接当作自动微分变量使用，旦Variable仍可使用。\n",
    "\n",
    "用法：\n",
    "\n",
    "from torch.autograd import Variable\n",
    "\n",
    "x = Variable(tensor, requires_grad = True)\n",
    "\n",
    "参数：\n",
    "\n",
    "tensor：要封装的张量\n",
    "\n",
    "requires_grad：bool，是否要求计算导数\n",
    "\n",
    "属性：\n",
    "\n",
    "data：tensor张量，数据本体\n",
    "\n",
    "grad：存储的导数值，保存了data的梯度，与data形状一致\n",
    "\n",
    "grad_fn：计算图箭头，指向Function对象，用于反向传播的梯度计算之用\n"
   ]
  },
  {
   "cell_type": "markdown",
   "metadata": {},
   "source": [
    "## torch.where()函数解读\n",
    "函数作用\n",
    "torch.where()函数的作用是按照一定的规则合并两个tensor类型"
   ]
  },
  {
   "cell_type": "code",
   "execution_count": 88,
   "metadata": {},
   "outputs": [
    {
     "data": {
      "text/plain": [
       "tensor([[ 1.1806,  1.2072,  0.5441, -1.1633, -1.1133],\n",
       "        [ 0.1956,  0.6395, -0.1449,  0.4153, -1.3139],\n",
       "        [ 1.0120,  0.6076, -0.4335, -0.4456, -0.0635]])"
      ]
     },
     "execution_count": 88,
     "metadata": {},
     "output_type": "execute_result"
    }
   ],
   "source": [
    "a=torch.randn(3,5)\n",
    "a"
   ]
  },
  {
   "cell_type": "code",
   "execution_count": 89,
   "metadata": {},
   "outputs": [
    {
     "data": {
      "text/plain": [
       "tensor([[1., 1., 1., 1., 1.],\n",
       "        [1., 1., 1., 1., 1.],\n",
       "        [1., 1., 1., 1., 1.]])"
      ]
     },
     "execution_count": 89,
     "metadata": {},
     "output_type": "execute_result"
    }
   ],
   "source": [
    "b=torch.ones(3,5)\n",
    "b"
   ]
  },
  {
   "cell_type": "code",
   "execution_count": 90,
   "metadata": {},
   "outputs": [
    {
     "data": {
      "text/plain": [
       "tensor([[1.1806, 1.2072, 0.5441, 1.0000, 1.0000],\n",
       "        [0.1956, 0.6395, 1.0000, 0.4153, 1.0000],\n",
       "        [1.0120, 0.6076, 1.0000, 1.0000, 1.0000]])"
      ]
     },
     "execution_count": 90,
     "metadata": {},
     "output_type": "execute_result"
    }
   ],
   "source": [
    "torch.where(a>0,a,b)#合并a,b两个tensor a>0的地方保存"
   ]
  },
  {
   "cell_type": "code",
   "execution_count": null,
   "metadata": {},
   "outputs": [],
   "source": []
  },
  {
   "cell_type": "code",
   "execution_count": null,
   "metadata": {},
   "outputs": [],
   "source": []
  }
 ],
 "metadata": {
  "kernelspec": {
   "display_name": "Python 3",
   "language": "python",
   "name": "python3"
  },
  "language_info": {
   "codemirror_mode": {
    "name": "ipython",
    "version": 3
   },
   "file_extension": ".py",
   "mimetype": "text/x-python",
   "name": "python",
   "nbconvert_exporter": "python",
   "pygments_lexer": "ipython3",
   "version": "3.7.0"
  }
 },
 "nbformat": 4,
 "nbformat_minor": 5
}
